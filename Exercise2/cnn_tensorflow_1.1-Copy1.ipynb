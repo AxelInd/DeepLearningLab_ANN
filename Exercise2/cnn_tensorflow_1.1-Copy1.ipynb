{
 "cells": [
  {
   "cell_type": "markdown",
   "metadata": {},
   "source": [
    "<h1>\n",
    "Convolutional Neural Network With Tensorflow\n",
    "</h1>\n",
    "\n",
    "<h2>\n",
    "By Axel Ind (<i>4563539</i>)\n",
    "</h2>\n",
    "\n",
    "<h4>\n",
    "14.11.2017\n",
    "</h4>\n",
    "\n",
    "<h3>\n",
    "Exercise 2 of Deep Learning Lab (University of Freiburg)\n",
    "</h3>\n",
    "\n",
    "<p>\n",
    "<b>Note:</b> This project is extensively modelled on the excellent convolutional neural network presented <a href=\"https://github.com/aymericdamien/TensorFlow-Examples/blob/master/examples/3_NeuralNetworks/convolutional_network.py\">here</a>.\n",
    "</p>"
   ]
  },
  {
   "cell_type": "markdown",
   "metadata": {},
   "source": [
    "Import Tensorflow. (Tensorflow-GPU functionality is automatically handled.)"
   ]
  },
  {
   "cell_type": "code",
   "execution_count": 3,
   "metadata": {
    "collapsed": true
   },
   "outputs": [],
   "source": [
    "from __future__ import division, print_function, absolute_import\n",
    "import tensorflow as tf"
   ]
  },
  {
   "cell_type": "markdown",
   "metadata": {},
   "source": [
    "Import and store the MNIST data set."
   ]
  },
  {
   "cell_type": "code",
   "execution_count": 4,
   "metadata": {},
   "outputs": [
    {
     "name": "stdout",
     "output_type": "stream",
     "text": [
      "Extracting /tmp/data/train-images-idx3-ubyte.gz\n",
      "Extracting /tmp/data/train-labels-idx1-ubyte.gz\n",
      "Extracting /tmp/data/t10k-images-idx3-ubyte.gz\n",
      "Extracting /tmp/data/t10k-labels-idx1-ubyte.gz\n"
     ]
    }
   ],
   "source": [
    "# Import MNIST data\n",
    "from tensorflow.examples.tutorials.mnist import input_data\n",
    "mnist = input_data.read_data_sets(\"/tmp/data/\", one_hot=False)"
   ]
  },
  {
   "cell_type": "markdown",
   "metadata": {},
   "source": [
    "Define Training Parameters"
   ]
  },
  {
   "cell_type": "code",
   "execution_count": null,
   "metadata": {
    "collapsed": true
   },
   "outputs": [],
   "source": []
  },
  {
   "cell_type": "markdown",
   "metadata": {},
   "source": [
    "Define Hyper-prameters."
   ]
  },
  {
   "cell_type": "code",
   "execution_count": 5,
   "metadata": {
    "collapsed": true
   },
   "outputs": [],
   "source": [
    "#Each pixel of the image is an input\n",
    "num_input = 28*28\n",
    "\n",
    "#10 output classes because the numbers being classified are (0-9)\n",
    "num_classes = 10\n",
    "\n",
    "# Dropout, probability to keep units\n",
    "dropout = 0.75 "
   ]
  },
  {
   "cell_type": "markdown",
   "metadata": {},
   "source": [
    "Define the Neural Network"
   ]
  },
  {
   "cell_type": "code",
   "execution_count": 6,
   "metadata": {
    "collapsed": true
   },
   "outputs": [],
   "source": [
    "# Create the neural network\n",
    "def conv_net(x_dict, n_classes, dropout, reuse, is_training, kernelSize=3,  numFullyConnectedNodes = 128):\n",
    "    # Define a scope for reusing the variables\n",
    "    print(\"NUM FILTERS IS \",numFilters)\n",
    "    with tf.variable_scope('ConvNet', reuse=reuse):\n",
    "        # TF Estimator input is a dict, in case of multiple inputs\n",
    "        x = x_dict['images']\n",
    "\n",
    "        # MNIST data input is a 1-D vector of 784 features (28*28 pixels)\n",
    "        # Reshape to match picture format [Height x Width x Channel]\n",
    "        # Tensor input become 4-D: [Batch Size, Height, Width, Channel]\n",
    "        x = tf.reshape(x, shape=[-1, 28, 28, 1])\n",
    "\n",
    "        conv1 = tf.layers.conv2d(x, numFilters, kernelSize, activation=tf.nn.relu)\n",
    "        # Max Pooling (down-sampling) with strides of 2 and kernel size of 2\n",
    "        conv1 = tf.layers.max_pooling2d(conv1, 2, 2)\n",
    "\n",
    "        conv2 = tf.layers.conv2d(conv1, numFilters, kernelSize, activation=tf.nn.relu)\n",
    "        # Max Pooling (down-sampling) with strides of 2 and kernel size of 2\n",
    "        conv2 = tf.layers.max_pooling2d(conv2, 2, 2)\n",
    "\n",
    "        # Flatten the data to a 1-D vector for the fully connected layer\n",
    "        fc1 = tf.contrib.layers.flatten(conv2)\n",
    "\n",
    "        # Fully connected layer (in tf contrib folder for now)\n",
    "        fc1 = tf.layers.dense(fc1, numFullyConnectedNodes)\n",
    "        # Apply Dropout (if is_training is False, dropout is not applied)\n",
    "        fc1 = tf.layers.dropout(fc1, rate=dropout, training=is_training)\n",
    "\n",
    "        # Output layer, class prediction\n",
    "        out = tf.layers.dense(fc1, n_classes)\n",
    "\n",
    "    return out\n",
    "\n"
   ]
  },
  {
   "cell_type": "markdown",
   "metadata": {},
   "source": [
    "Define the model function."
   ]
  },
  {
   "cell_type": "code",
   "execution_count": null,
   "metadata": {
    "collapsed": true
   },
   "outputs": [],
   "source": [
    "# Define the model function (following TF Estimator Template)\n",
    "def model_fn(features, labels, mode):\n",
    "    # Build the neural network\n",
    "    # Because Dropout have different behavior at training and prediction time, we\n",
    "    # need to create 2 distinct computation graphs that still share the same weights.\n",
    "    logits_train = conv_net(features, num_classes, dropout, reuse=False,\n",
    "                            is_training=True)\n",
    "    logits_test = conv_net(features, num_classes, dropout, reuse=True,\n",
    "                           is_training=False)\n",
    "\n",
    "    # Predictions\n",
    "    pred_classes = tf.argmax(logits_test, axis=1)\n",
    "    pred_probas = tf.nn.softmax(logits_test)\n",
    "\n",
    "    # If prediction mode, early return\n",
    "    if mode == tf.estimator.ModeKeys.PREDICT:\n",
    "        return tf.estimator.EstimatorSpec(mode, predictions=pred_classes)\n",
    "\n",
    "        # Define loss and optimizer\n",
    "    loss_op = tf.reduce_mean(tf.nn.sparse_softmax_cross_entropy_with_logits(\n",
    "        logits=logits_train, labels=tf.cast(labels, dtype=tf.int32)))\n",
    "    \n",
    "    optimizer = tf.train.AdamOptimizer(learning_rate=learning_rate)\n",
    "    train_op = optimizer.minimize(loss_op,\n",
    "                                  global_step=tf.train.get_global_step())\n",
    "\n",
    "    # Evaluate the accuracy of the model\n",
    "    acc_op = tf.metrics.accuracy(labels=labels, predictions=pred_classes)\n",
    "\n",
    "    # TF Estimators requires to return a EstimatorSpec, that specify\n",
    "    # the different ops for training, evaluating, ...\n",
    "    estim_specs = tf.estimator.EstimatorSpec(\n",
    "        mode=mode,\n",
    "        predictions=pred_classes,\n",
    "        loss=loss_op,\n",
    "        train_op=train_op,\n",
    "        eval_metric_ops={'accuracy': acc_op})\n",
    "\n",
    "    return estim_specs\n"
   ]
  },
  {
   "cell_type": "markdown",
   "metadata": {},
   "source": [
    "Build the estimator."
   ]
  },
  {
   "cell_type": "code",
   "execution_count": null,
   "metadata": {},
   "outputs": [
    {
     "name": "stdout",
     "output_type": "stream",
     "text": [
      "INFO:tensorflow:Using default config.\n",
      "WARNING:tensorflow:Using temporary folder as model directory: C:\\Users\\User\\AppData\\Local\\Temp\\tmpzbengvd_\n",
      "INFO:tensorflow:Using config: {'_model_dir': 'C:\\\\Users\\\\User\\\\AppData\\\\Local\\\\Temp\\\\tmpzbengvd_', '_tf_random_seed': 1, '_save_summary_steps': 100, '_save_checkpoints_secs': 600, '_save_checkpoints_steps': None, '_session_config': None, '_keep_checkpoint_max': 5, '_keep_checkpoint_every_n_hours': 10000}\n",
      "NUM FILTERS IS  16\n",
      "NUM FILTERS IS  16\n",
      "INFO:tensorflow:Create CheckpointSaverHook.\n",
      "INFO:tensorflow:Saving checkpoints for 1 into C:\\Users\\User\\AppData\\Local\\Temp\\tmpzbengvd_\\model.ckpt.\n",
      "INFO:tensorflow:loss = 2.45066, step = 1\n",
      "INFO:tensorflow:global_step/sec: 12.5816\n",
      "INFO:tensorflow:loss = 0.403542, step = 101 (7.949 sec)\n"
     ]
    }
   ],
   "source": [
    "\n",
    "# Training Parameters\n",
    "learning_rates=(0.01)\n",
    "learning_rate = 0.001\n",
    "num_steps = None\n",
    "batch_size = 256\n",
    "numEpochs = 2\n",
    "numFilters=16\n",
    "\n",
    "def runOnce(learning_rate,num_steps,batch_size,numEpochs, numFilters):\n",
    "    model = tf.estimator.Estimator(model_fn)\n",
    "    \n",
    "    # Define the input function for training\n",
    "    for i in range (1,numEpochs+1):  \n",
    "        input_fn = tf.estimator.inputs.numpy_input_fn(\n",
    "            x={'images': mnist.train.images}, y=mnist.train.labels,\n",
    "            batch_size=batch_size, num_epochs=1, shuffle=True)\n",
    "        # Train the Model\n",
    "        model.train(input_fn, steps=num_steps)\n",
    "\n",
    "        # Evaluate the Model\n",
    "        # Define the input function for evaluating\n",
    "        input_fn = tf.estimator.inputs.numpy_input_fn(\n",
    "            x={'images': mnist.test.images}, y=mnist.test.labels,\n",
    "            batch_size=batch_size, shuffle=False)\n",
    "        # Use the Estimator 'evaluate' method\n",
    "        e = model.evaluate(input_fn)\n",
    "\n",
    "        print(\"Testing Accuracy:\", e['accuracy'])\n",
    "\n",
    "\n",
    "runOnce(learning_rate=learning_rate,num_steps=num_steps,batch_size=batch_size,numEpochs=numEpochs, numFilters=numFilters)\n",
    "print(\"DONE\")"
   ]
  },
  {
   "cell_type": "markdown",
   "metadata": {},
   "source": [
    "<h2>\n",
    "Data Distribution\n",
    "</h2>"
   ]
  },
  {
   "cell_type": "code",
   "execution_count": 7,
   "metadata": {},
   "outputs": [
    {
     "data": {
      "text/plain": [
       "(array([ 5444.,  6179.,  5470.,  5638.,  5307.,  4987.,  5417.,  5715.,\n",
       "         5389.,  5454.]),\n",
       " array([ 0. ,  0.9,  1.8,  2.7,  3.6,  4.5,  5.4,  6.3,  7.2,  8.1,  9. ]),\n",
       " <a list of 10 Patch objects>)"
      ]
     },
     "execution_count": 7,
     "metadata": {},
     "output_type": "execute_result"
    },
    {
     "data": {
      "image/png": "[encoded data removed]",
      "text/plain": [
       "<matplotlib.figure.Figure at 0x26636edb7b8>"
      ]
     },
     "metadata": {},
     "output_type": "display_data"
    }
   ],
   "source": [
    "import matplotlib.pyplot as plt \n",
    "%matplotlib inline \n",
    "\n",
    "plt.hist(mnist.train.labels)"
   ]
  },
  {
   "cell_type": "code",
   "execution_count": null,
   "metadata": {
    "collapsed": true
   },
   "outputs": [],
   "source": []
  },
  {
   "cell_type": "code",
   "execution_count": null,
   "metadata": {
    "collapsed": true
   },
   "outputs": [],
   "source": []
  },
  {
   "cell_type": "code",
   "execution_count": 19,
   "metadata": {},
   "outputs": [
    {
     "data": {
      "image/png": "[encoded data removed]",
      "text/plain": [
       "<matplotlib.figure.Figure at 0x2678d49ea90>"
      ]
     },
     "metadata": {},
     "output_type": "display_data"
    }
   ],
   "source": [
    "import numpy as np\n",
    "\n",
    "t_ = np.array(trainingData)\n",
    "x = np.arange(0,numEpochs+1)\n",
    "y_ = np.split(t_[:,2],len(learning_rates))\n",
    "\n",
    "plt.clf()\n",
    "plt.title(\"Relative Accuracy of Different Learning Rates\")\n",
    "plt.xlabel('epoch')\n",
    "plt.ylabel('Accuracy')\n",
    "for i in range (0, len(learning_rates)):\n",
    "    plt.plot(x,y_[i],label=str(learning_rates[i]))\n",
    "    plt.legend()\n",
    "\n",
    "\n",
    "    "
   ]
  },
  {
   "cell_type": "code",
   "execution_count": 14,
   "metadata": {},
   "outputs": [
    {
     "name": "stdout",
     "output_type": "stream",
     "text": [
      "INFO:tensorflow:Using default config.\n",
      "WARNING:tensorflow:Using temporary folder as model directory: C:\\Users\\User\\AppData\\Local\\Temp\\tmp9inlyibd\n",
      "INFO:tensorflow:Using config: {'_model_dir': 'C:\\\\Users\\\\User\\\\AppData\\\\Local\\\\Temp\\\\tmp9inlyibd', '_tf_random_seed': None, '_save_summary_steps': 100, '_save_checkpoints_steps': None, '_save_checkpoints_secs': 600, '_session_config': None, '_keep_checkpoint_max': 5, '_keep_checkpoint_every_n_hours': 10000, '_log_step_count_steps': 100, '_service': None, '_cluster_spec': <tensorflow.python.training.server_lib.ClusterSpec object at 0x000002678B511CC0>, '_task_type': 'worker', '_task_id': 0, '_master': '', '_is_chief': True, '_num_ps_replicas': 0, '_num_worker_replicas': 1}\n",
      "NUM FILTERS IS  8\n",
      "NUM FILTERS IS  8\n",
      "INFO:tensorflow:Create CheckpointSaverHook.\n",
      "INFO:tensorflow:Saving checkpoints for 1 into C:\\Users\\User\\AppData\\Local\\Temp\\tmp9inlyibd\\model.ckpt.\n",
      "INFO:tensorflow:loss = 2.32114, step = 1\n",
      "INFO:tensorflow:global_step/sec: 66.0054\n",
      "INFO:tensorflow:loss = 2.1227, step = 101 (1.516 sec)\n",
      "INFO:tensorflow:Saving checkpoints for 108 into C:\\Users\\User\\AppData\\Local\\Temp\\tmp9inlyibd\\model.ckpt.\n",
      "INFO:tensorflow:Loss for final step: 2.12429.\n",
      "NUM FILTERS IS  8\n",
      "NUM FILTERS IS  8\n",
      "INFO:tensorflow:Starting evaluation at 2017-11-15-11:43:17\n",
      "INFO:tensorflow:Restoring parameters from C:\\Users\\User\\AppData\\Local\\Temp\\tmp9inlyibd\\model.ckpt-108\n",
      "INFO:tensorflow:Finished evaluation at 2017-11-15-11:43:18\n",
      "INFO:tensorflow:Saving dict for global step 108: accuracy = 0.5887, global_step = 108, loss = 2.08898\n",
      "Testing Accuracy: 0.5887\n",
      "INFO:tensorflow:Using default config.\n",
      "WARNING:tensorflow:Using temporary folder as model directory: C:\\Users\\User\\AppData\\Local\\Temp\\tmpb5ueez4z\n",
      "INFO:tensorflow:Using config: {'_model_dir': 'C:\\\\Users\\\\User\\\\AppData\\\\Local\\\\Temp\\\\tmpb5ueez4z', '_tf_random_seed': None, '_save_summary_steps': 100, '_save_checkpoints_steps': None, '_save_checkpoints_secs': 600, '_session_config': None, '_keep_checkpoint_max': 5, '_keep_checkpoint_every_n_hours': 10000, '_log_step_count_steps': 100, '_service': None, '_cluster_spec': <tensorflow.python.training.server_lib.ClusterSpec object at 0x000002663D7C5C18>, '_task_type': 'worker', '_task_id': 0, '_master': '', '_is_chief': True, '_num_ps_replicas': 0, '_num_worker_replicas': 1}\n",
      "NUM FILTERS IS  16\n",
      "NUM FILTERS IS  16\n",
      "INFO:tensorflow:Create CheckpointSaverHook.\n",
      "INFO:tensorflow:Saving checkpoints for 1 into C:\\Users\\User\\AppData\\Local\\Temp\\tmpb5ueez4z\\model.ckpt.\n",
      "INFO:tensorflow:loss = 2.3152, step = 1\n",
      "INFO:tensorflow:global_step/sec: 50.8854\n",
      "INFO:tensorflow:loss = 1.9206, step = 101 (1.965 sec)\n",
      "INFO:tensorflow:Saving checkpoints for 108 into C:\\Users\\User\\AppData\\Local\\Temp\\tmpb5ueez4z\\model.ckpt.\n",
      "INFO:tensorflow:Loss for final step: 1.92422.\n",
      "NUM FILTERS IS  16\n",
      "NUM FILTERS IS  16\n",
      "INFO:tensorflow:Starting evaluation at 2017-11-15-11:43:24\n",
      "INFO:tensorflow:Restoring parameters from C:\\Users\\User\\AppData\\Local\\Temp\\tmpb5ueez4z\\model.ckpt-108\n",
      "INFO:tensorflow:Finished evaluation at 2017-11-15-11:43:25\n",
      "INFO:tensorflow:Saving dict for global step 108: accuracy = 0.7589, global_step = 108, loss = 1.88816\n",
      "Testing Accuracy: 0.7589\n",
      "INFO:tensorflow:Using default config.\n",
      "WARNING:tensorflow:Using temporary folder as model directory: C:\\Users\\User\\AppData\\Local\\Temp\\tmp1flybyte\n",
      "INFO:tensorflow:Using config: {'_model_dir': 'C:\\\\Users\\\\User\\\\AppData\\\\Local\\\\Temp\\\\tmp1flybyte', '_tf_random_seed': None, '_save_summary_steps': 100, '_save_checkpoints_steps': None, '_save_checkpoints_secs': 600, '_session_config': None, '_keep_checkpoint_max': 5, '_keep_checkpoint_every_n_hours': 10000, '_log_step_count_steps': 100, '_service': None, '_cluster_spec': <tensorflow.python.training.server_lib.ClusterSpec object at 0x000002678B873710>, '_task_type': 'worker', '_task_id': 0, '_master': '', '_is_chief': True, '_num_ps_replicas': 0, '_num_worker_replicas': 1}\n",
      "NUM FILTERS IS  32\n",
      "NUM FILTERS IS  32\n",
      "INFO:tensorflow:Create CheckpointSaverHook.\n",
      "INFO:tensorflow:Saving checkpoints for 1 into C:\\Users\\User\\AppData\\Local\\Temp\\tmp1flybyte\\model.ckpt.\n",
      "INFO:tensorflow:loss = 2.41088, step = 1\n",
      "INFO:tensorflow:global_step/sec: 36.666\n",
      "INFO:tensorflow:loss = 1.50473, step = 101 (2.729 sec)\n",
      "INFO:tensorflow:Saving checkpoints for 108 into C:\\Users\\User\\AppData\\Local\\Temp\\tmp1flybyte\\model.ckpt.\n",
      "INFO:tensorflow:Loss for final step: 1.46552.\n",
      "NUM FILTERS IS  32\n",
      "NUM FILTERS IS  32\n",
      "INFO:tensorflow:Starting evaluation at 2017-11-15-11:43:32\n",
      "INFO:tensorflow:Restoring parameters from C:\\Users\\User\\AppData\\Local\\Temp\\tmp1flybyte\\model.ckpt-108\n",
      "INFO:tensorflow:Finished evaluation at 2017-11-15-11:43:33\n",
      "INFO:tensorflow:Saving dict for global step 108: accuracy = 0.785, global_step = 108, loss = 1.3714\n",
      "Testing Accuracy: 0.785\n",
      "INFO:tensorflow:Using default config.\n",
      "WARNING:tensorflow:Using temporary folder as model directory: C:\\Users\\User\\AppData\\Local\\Temp\\tmphxmk4e69\n",
      "INFO:tensorflow:Using config: {'_model_dir': 'C:\\\\Users\\\\User\\\\AppData\\\\Local\\\\Temp\\\\tmphxmk4e69', '_tf_random_seed': None, '_save_summary_steps': 100, '_save_checkpoints_steps': None, '_save_checkpoints_secs': 600, '_session_config': None, '_keep_checkpoint_max': 5, '_keep_checkpoint_every_n_hours': 10000, '_log_step_count_steps': 100, '_service': None, '_cluster_spec': <tensorflow.python.training.server_lib.ClusterSpec object at 0x000002678B714D68>, '_task_type': 'worker', '_task_id': 0, '_master': '', '_is_chief': True, '_num_ps_replicas': 0, '_num_worker_replicas': 1}\n",
      "NUM FILTERS IS  64\n",
      "NUM FILTERS IS  64\n",
      "INFO:tensorflow:Create CheckpointSaverHook.\n",
      "INFO:tensorflow:Saving checkpoints for 1 into C:\\Users\\User\\AppData\\Local\\Temp\\tmphxmk4e69\\model.ckpt.\n",
      "INFO:tensorflow:loss = 2.32485, step = 1\n",
      "INFO:tensorflow:global_step/sec: 20.1687\n",
      "INFO:tensorflow:loss = 0.907932, step = 101 (4.960 sec)\n",
      "INFO:tensorflow:Saving checkpoints for 108 into C:\\Users\\User\\AppData\\Local\\Temp\\tmphxmk4e69\\model.ckpt.\n",
      "INFO:tensorflow:Loss for final step: 0.9895.\n",
      "NUM FILTERS IS  64\n",
      "NUM FILTERS IS  64\n",
      "INFO:tensorflow:Starting evaluation at 2017-11-15-11:43:43\n",
      "INFO:tensorflow:Restoring parameters from C:\\Users\\User\\AppData\\Local\\Temp\\tmphxmk4e69\\model.ckpt-108\n",
      "INFO:tensorflow:Finished evaluation at 2017-11-15-11:43:44\n",
      "INFO:tensorflow:Saving dict for global step 108: accuracy = 0.8463, global_step = 108, loss = 0.841353\n",
      "Testing Accuracy: 0.8463\n",
      "INFO:tensorflow:Using default config.\n",
      "WARNING:tensorflow:Using temporary folder as model directory: C:\\Users\\User\\AppData\\Local\\Temp\\tmpauuw17e5\n",
      "INFO:tensorflow:Using config: {'_model_dir': 'C:\\\\Users\\\\User\\\\AppData\\\\Local\\\\Temp\\\\tmpauuw17e5', '_tf_random_seed': None, '_save_summary_steps': 100, '_save_checkpoints_steps': None, '_save_checkpoints_secs': 600, '_session_config': None, '_keep_checkpoint_max': 5, '_keep_checkpoint_every_n_hours': 10000, '_log_step_count_steps': 100, '_service': None, '_cluster_spec': <tensorflow.python.training.server_lib.ClusterSpec object at 0x000002678B8E49E8>, '_task_type': 'worker', '_task_id': 0, '_master': '', '_is_chief': True, '_num_ps_replicas': 0, '_num_worker_replicas': 1}\n",
      "NUM FILTERS IS  128\n",
      "NUM FILTERS IS  128\n",
      "INFO:tensorflow:Create CheckpointSaverHook.\n",
      "INFO:tensorflow:Saving checkpoints for 1 into C:\\Users\\User\\AppData\\Local\\Temp\\tmpauuw17e5\\model.ckpt.\n",
      "INFO:tensorflow:loss = 2.31502, step = 1\n",
      "INFO:tensorflow:global_step/sec: 10.1284\n",
      "INFO:tensorflow:loss = 0.595024, step = 101 (9.874 sec)\n",
      "INFO:tensorflow:Saving checkpoints for 108 into C:\\Users\\User\\AppData\\Local\\Temp\\tmpauuw17e5\\model.ckpt.\n",
      "INFO:tensorflow:Loss for final step: 0.473869.\n",
      "NUM FILTERS IS  128\n",
      "NUM FILTERS IS  128\n",
      "INFO:tensorflow:Starting evaluation at 2017-11-15-11:43:59\n",
      "INFO:tensorflow:Restoring parameters from C:\\Users\\User\\AppData\\Local\\Temp\\tmpauuw17e5\\model.ckpt-108\n",
      "INFO:tensorflow:Finished evaluation at 2017-11-15-11:44:00\n",
      "INFO:tensorflow:Saving dict for global step 108: accuracy = 0.9038, global_step = 108, loss = 0.519616\n",
      "Testing Accuracy: 0.9038\n",
      "INFO:tensorflow:Using default config.\n",
      "WARNING:tensorflow:Using temporary folder as model directory: C:\\Users\\User\\AppData\\Local\\Temp\\tmplr2sjj42\n",
      "INFO:tensorflow:Using config: {'_model_dir': 'C:\\\\Users\\\\User\\\\AppData\\\\Local\\\\Temp\\\\tmplr2sjj42', '_tf_random_seed': None, '_save_summary_steps': 100, '_save_checkpoints_steps': None, '_save_checkpoints_secs': 600, '_session_config': None, '_keep_checkpoint_max': 5, '_keep_checkpoint_every_n_hours': 10000, '_log_step_count_steps': 100, '_service': None, '_cluster_spec': <tensorflow.python.training.server_lib.ClusterSpec object at 0x000002663D628400>, '_task_type': 'worker', '_task_id': 0, '_master': '', '_is_chief': True, '_num_ps_replicas': 0, '_num_worker_replicas': 1}\n"
     ]
    },
    {
     "name": "stdout",
     "output_type": "stream",
     "text": [
      "NUM FILTERS IS  256\n",
      "NUM FILTERS IS  256\n",
      "INFO:tensorflow:Create CheckpointSaverHook.\n",
      "INFO:tensorflow:Saving checkpoints for 1 into C:\\Users\\User\\AppData\\Local\\Temp\\tmplr2sjj42\\model.ckpt.\n",
      "INFO:tensorflow:loss = 2.31204, step = 1\n",
      "INFO:tensorflow:global_step/sec: 4.67225\n",
      "INFO:tensorflow:loss = 0.460049, step = 101 (21.405 sec)\n",
      "INFO:tensorflow:Saving checkpoints for 108 into C:\\Users\\User\\AppData\\Local\\Temp\\tmplr2sjj42\\model.ckpt.\n",
      "INFO:tensorflow:Loss for final step: 0.378375.\n",
      "NUM FILTERS IS  256\n",
      "NUM FILTERS IS  256\n",
      "INFO:tensorflow:Starting evaluation at 2017-11-15-11:44:27\n",
      "INFO:tensorflow:Restoring parameters from C:\\Users\\User\\AppData\\Local\\Temp\\tmplr2sjj42\\model.ckpt-108\n",
      "INFO:tensorflow:Finished evaluation at 2017-11-15-11:44:29\n",
      "INFO:tensorflow:Saving dict for global step 108: accuracy = 0.9286, global_step = 108, loss = 0.397335\n",
      "Testing Accuracy: 0.9286\n",
      "DONE\n"
     ]
    }
   ],
   "source": [
    "import time\n",
    "\n",
    "# Training Parameters\n",
    "FILTERS=[8,16,32,64,128,256]\n",
    "numFilters=16\n",
    "\n",
    "trainingData=[]\n",
    "times=[]\n",
    "for i in range (0,len(FILTERS)):\n",
    "    time1=time.time()\n",
    "    numFilters=FILTERS[i]\n",
    "    trainingData=runOnce(learning_rate=learning_rates[0],num_steps=num_steps,batch_size=batch_size,numEpochs=numEpochs, numFilters=numFilters,trainingData=trainingData)\n",
    "    time2=time.time()\n",
    "    times.append(time2-time1)\n",
    "print(\"DONE\")"
   ]
  },
  {
   "cell_type": "code",
   "execution_count": 15,
   "metadata": {},
   "outputs": [
    {
     "name": "stdout",
     "output_type": "stream",
     "text": [
      "[7.192342281341553, 7.386621713638306, 7.899008512496948, 10.692513227462769, 16.18901300430298, 29.4032621383667]\n",
      "[8, 16, 32, 64, 128, 256]\n"
     ]
    },
    {
     "data": {
      "text/plain": [
       "Text(0,0.5,'Computation Time (s)')"
      ]
     },
     "execution_count": 15,
     "metadata": {},
     "output_type": "execute_result"
    },
    {
     "data": {
      "image/png": "[encoded data removed]",
      "text/plain": [
       "<matplotlib.figure.Figure at 0x2678b994cc0>"
      ]
     },
     "metadata": {},
     "output_type": "display_data"
    }
   ],
   "source": [
    "\n",
    "print(times)\n",
    "print(FILTERS)\n",
    "plt.scatter(FILTERS, times)\n",
    "plt.title(\"GPU Computation Time for Different Filter Counts\")\n",
    "plt.xlabel('Filter Count')\n",
    "plt.ylabel('Computation Time (s)')"
   ]
  },
  {
   "cell_type": "code",
   "execution_count": 11,
   "metadata": {},
   "outputs": [
    {
     "name": "stdout",
     "output_type": "stream",
     "text": [
      "env: CUDA_DEVICE_ORDER=PCI_BUS_ID\n",
      "env: CUDA_VISIBLE_DEVICES=-1\n",
      "INFO:tensorflow:Using default config.\n",
      "WARNING:tensorflow:Using temporary folder as model directory: C:\\Users\\User\\AppData\\Local\\Temp\\tmp1fp4tu03\n",
      "INFO:tensorflow:Using config: {'_model_dir': 'C:\\\\Users\\\\User\\\\AppData\\\\Local\\\\Temp\\\\tmp1fp4tu03', '_tf_random_seed': None, '_save_summary_steps': 100, '_save_checkpoints_steps': None, '_save_checkpoints_secs': 600, '_session_config': None, '_keep_checkpoint_max': 5, '_keep_checkpoint_every_n_hours': 10000, '_log_step_count_steps': 100, '_service': None, '_cluster_spec': <tensorflow.python.training.server_lib.ClusterSpec object at 0x000002663D628908>, '_task_type': 'worker', '_task_id': 0, '_master': '', '_is_chief': True, '_num_ps_replicas': 0, '_num_worker_replicas': 1}\n",
      "NUM FILTERS IS  8\n",
      "NUM FILTERS IS  8\n",
      "INFO:tensorflow:Create CheckpointSaverHook.\n",
      "INFO:tensorflow:Saving checkpoints for 1 into C:\\Users\\User\\AppData\\Local\\Temp\\tmp1fp4tu03\\model.ckpt.\n",
      "INFO:tensorflow:loss = 2.44898, step = 1\n",
      "INFO:tensorflow:global_step/sec: 67.1139\n",
      "INFO:tensorflow:loss = 2.07793, step = 101 (1.491 sec)\n",
      "INFO:tensorflow:Saving checkpoints for 108 into C:\\Users\\User\\AppData\\Local\\Temp\\tmp1fp4tu03\\model.ckpt.\n",
      "INFO:tensorflow:Loss for final step: 2.08653.\n",
      "NUM FILTERS IS  8\n",
      "NUM FILTERS IS  8\n",
      "INFO:tensorflow:Starting evaluation at 2017-11-15-11:42:25\n",
      "INFO:tensorflow:Restoring parameters from C:\\Users\\User\\AppData\\Local\\Temp\\tmp1fp4tu03\\model.ckpt-108\n",
      "INFO:tensorflow:Finished evaluation at 2017-11-15-11:42:26\n",
      "INFO:tensorflow:Saving dict for global step 108: accuracy = 0.6406, global_step = 108, loss = 2.03376\n",
      "Testing Accuracy: 0.6406\n",
      "INFO:tensorflow:Using default config.\n",
      "WARNING:tensorflow:Using temporary folder as model directory: C:\\Users\\User\\AppData\\Local\\Temp\\tmpqu2ucfr3\n",
      "INFO:tensorflow:Using config: {'_model_dir': 'C:\\\\Users\\\\User\\\\AppData\\\\Local\\\\Temp\\\\tmpqu2ucfr3', '_tf_random_seed': None, '_save_summary_steps': 100, '_save_checkpoints_steps': None, '_save_checkpoints_secs': 600, '_session_config': None, '_keep_checkpoint_max': 5, '_keep_checkpoint_every_n_hours': 10000, '_log_step_count_steps': 100, '_service': None, '_cluster_spec': <tensorflow.python.training.server_lib.ClusterSpec object at 0x000002663D628CF8>, '_task_type': 'worker', '_task_id': 0, '_master': '', '_is_chief': True, '_num_ps_replicas': 0, '_num_worker_replicas': 1}\n",
      "NUM FILTERS IS  16\n",
      "NUM FILTERS IS  16\n",
      "INFO:tensorflow:Create CheckpointSaverHook.\n",
      "INFO:tensorflow:Saving checkpoints for 1 into C:\\Users\\User\\AppData\\Local\\Temp\\tmpqu2ucfr3\\model.ckpt.\n",
      "INFO:tensorflow:loss = 2.36203, step = 1\n",
      "INFO:tensorflow:global_step/sec: 50.8848\n",
      "INFO:tensorflow:loss = 1.84035, step = 101 (1.965 sec)\n",
      "INFO:tensorflow:Saving checkpoints for 108 into C:\\Users\\User\\AppData\\Local\\Temp\\tmpqu2ucfr3\\model.ckpt.\n",
      "INFO:tensorflow:Loss for final step: 1.77809.\n",
      "NUM FILTERS IS  16\n",
      "NUM FILTERS IS  16\n",
      "INFO:tensorflow:Starting evaluation at 2017-11-15-11:42:32\n",
      "INFO:tensorflow:Restoring parameters from C:\\Users\\User\\AppData\\Local\\Temp\\tmpqu2ucfr3\\model.ckpt-108\n",
      "INFO:tensorflow:Finished evaluation at 2017-11-15-11:42:33\n",
      "INFO:tensorflow:Saving dict for global step 108: accuracy = 0.7491, global_step = 108, loss = 1.75831\n",
      "Testing Accuracy: 0.7491\n",
      "INFO:tensorflow:Using default config.\n",
      "WARNING:tensorflow:Using temporary folder as model directory: C:\\Users\\User\\AppData\\Local\\Temp\\tmp0nt0uzyv\n",
      "INFO:tensorflow:Using config: {'_model_dir': 'C:\\\\Users\\\\User\\\\AppData\\\\Local\\\\Temp\\\\tmp0nt0uzyv', '_tf_random_seed': None, '_save_summary_steps': 100, '_save_checkpoints_steps': None, '_save_checkpoints_secs': 600, '_session_config': None, '_keep_checkpoint_max': 5, '_keep_checkpoint_every_n_hours': 10000, '_log_step_count_steps': 100, '_service': None, '_cluster_spec': <tensorflow.python.training.server_lib.ClusterSpec object at 0x000002663CB55E80>, '_task_type': 'worker', '_task_id': 0, '_master': '', '_is_chief': True, '_num_ps_replicas': 0, '_num_worker_replicas': 1}\n",
      "NUM FILTERS IS  32\n",
      "NUM FILTERS IS  32\n",
      "INFO:tensorflow:Create CheckpointSaverHook.\n",
      "INFO:tensorflow:Saving checkpoints for 1 into C:\\Users\\User\\AppData\\Local\\Temp\\tmp0nt0uzyv\\model.ckpt.\n",
      "INFO:tensorflow:loss = 2.34609, step = 1\n",
      "INFO:tensorflow:global_step/sec: 36.333\n",
      "INFO:tensorflow:loss = 1.35165, step = 101 (2.755 sec)\n",
      "INFO:tensorflow:Saving checkpoints for 108 into C:\\Users\\User\\AppData\\Local\\Temp\\tmp0nt0uzyv\\model.ckpt.\n",
      "INFO:tensorflow:Loss for final step: 1.22593.\n",
      "NUM FILTERS IS  32\n",
      "NUM FILTERS IS  32\n",
      "INFO:tensorflow:Starting evaluation at 2017-11-15-11:42:41\n",
      "INFO:tensorflow:Restoring parameters from C:\\Users\\User\\AppData\\Local\\Temp\\tmp0nt0uzyv\\model.ckpt-108\n",
      "INFO:tensorflow:Finished evaluation at 2017-11-15-11:42:41\n",
      "INFO:tensorflow:Saving dict for global step 108: accuracy = 0.8034, global_step = 108, loss = 1.26182\n",
      "Testing Accuracy: 0.8034\n",
      "INFO:tensorflow:Using default config.\n",
      "WARNING:tensorflow:Using temporary folder as model directory: C:\\Users\\User\\AppData\\Local\\Temp\\tmp1g2hsnpq\n",
      "INFO:tensorflow:Using config: {'_model_dir': 'C:\\\\Users\\\\User\\\\AppData\\\\Local\\\\Temp\\\\tmp1g2hsnpq', '_tf_random_seed': None, '_save_summary_steps': 100, '_save_checkpoints_steps': None, '_save_checkpoints_secs': 600, '_session_config': None, '_keep_checkpoint_max': 5, '_keep_checkpoint_every_n_hours': 10000, '_log_step_count_steps': 100, '_service': None, '_cluster_spec': <tensorflow.python.training.server_lib.ClusterSpec object at 0x000002678B32EE48>, '_task_type': 'worker', '_task_id': 0, '_master': '', '_is_chief': True, '_num_ps_replicas': 0, '_num_worker_replicas': 1}\n",
      "NUM FILTERS IS  64\n",
      "NUM FILTERS IS  64\n",
      "INFO:tensorflow:Create CheckpointSaverHook.\n",
      "INFO:tensorflow:Saving checkpoints for 1 into C:\\Users\\User\\AppData\\Local\\Temp\\tmp1g2hsnpq\\model.ckpt.\n",
      "INFO:tensorflow:loss = 2.33538, step = 1\n",
      "INFO:tensorflow:global_step/sec: 20.2139\n",
      "INFO:tensorflow:loss = 0.919432, step = 101 (4.948 sec)\n",
      "INFO:tensorflow:Saving checkpoints for 108 into C:\\Users\\User\\AppData\\Local\\Temp\\tmp1g2hsnpq\\model.ckpt.\n",
      "INFO:tensorflow:Loss for final step: 0.875981.\n",
      "NUM FILTERS IS  64\n",
      "NUM FILTERS IS  64\n",
      "INFO:tensorflow:Starting evaluation at 2017-11-15-11:42:51\n",
      "INFO:tensorflow:Restoring parameters from C:\\Users\\User\\AppData\\Local\\Temp\\tmp1g2hsnpq\\model.ckpt-108\n",
      "INFO:tensorflow:Finished evaluation at 2017-11-15-11:42:52\n",
      "INFO:tensorflow:Saving dict for global step 108: accuracy = 0.8636, global_step = 108, loss = 0.803476\n",
      "Testing Accuracy: 0.8636\n",
      "DONE\n"
     ]
    }
   ],
   "source": [
    "with tf.Session() as sess:\n",
    "     with tf.device(\"/cpu:0\"):\n",
    "        %env CUDA_DEVICE_ORDER=PCI_BUS_ID\n",
    "        %env CUDA_VISIBLE_DEVICES=-1\n",
    "        FILTERS=[8,16,32,64]\n",
    "        numFilters=16\n",
    "\n",
    "        trainingData=[]\n",
    "        timesCPU=[]\n",
    "        for i in range (0,len(FILTERS)):\n",
    "            time1=time.time()\n",
    "            numFilters=FILTERS[i]\n",
    "            trainingData=runOnce(learning_rate=learning_rates[0],num_steps=num_steps,batch_size=batch_size,numEpochs=numEpochs, numFilters=numFilters,trainingData=trainingData)\n",
    "            time2=time.time()\n",
    "            timesCPU.append(time2-time1)\n",
    "        print(\"DONE\")"
   ]
  },
  {
   "cell_type": "code",
   "execution_count": 12,
   "metadata": {},
   "outputs": [
    {
     "name": "stdout",
     "output_type": "stream",
     "text": [
      "[7.022744655609131, 7.029633522033691, 8.47053050994873, 10.562109470367432]\n",
      "[8, 16, 32, 64]\n"
     ]
    },
    {
     "data": {
      "text/plain": [
       "Text(0,0.5,'Computation Time (s)')"
      ]
     },
     "execution_count": 12,
     "metadata": {},
     "output_type": "execute_result"
    },
    {
     "data": {
      "image/png": "[encoded data removed]",
      "text/plain": [
       "<matplotlib.figure.Figure at 0x2663d525cc0>"
      ]
     },
     "metadata": {},
     "output_type": "display_data"
    }
   ],
   "source": [
    "print(timesCPU)\n",
    "print(FILTERS)\n",
    "plt.scatter(FILTERS, timesCPU)\n",
    "plt.title(\"Computation Time for Different Filter Counts\")\n",
    "plt.xlabel('Filter Count')\n",
    "plt.ylabel('Computation Time (s)')"
   ]
  },
  {
   "cell_type": "code",
   "execution_count": null,
   "metadata": {
    "collapsed": true
   },
   "outputs": [],
   "source": []
  },
  {
   "cell_type": "code",
   "execution_count": null,
   "metadata": {
    "collapsed": true
   },
   "outputs": [],
   "source": []
  },
  {
   "cell_type": "code",
   "execution_count": null,
   "metadata": {
    "collapsed": true
   },
   "outputs": [],
   "source": []
  }
 ],
 "metadata": {
  "kernelspec": {
   "display_name": "Python 3",
   "language": "python",
   "name": "python3"
  },
  "language_info": {
   "codemirror_mode": {
    "name": "ipython",
    "version": 3
   },
   "file_extension": ".py",
   "mimetype": "text/x-python",
   "name": "python",
   "nbconvert_exporter": "python",
   "pygments_lexer": "ipython3",
   "version": "3.6.3"
  }
 },
 "nbformat": 4,
 "nbformat_minor": 2
}
